{
 "cells": [
  {
   "cell_type": "markdown",
   "metadata": {},
   "source": [
    "## 자본시장의 신용공여 및 대차거래와 종합주가지수의 상관관계 분석\n",
    "<br></br>\n",
    "<dev style=\"height:100px\">\n",
    "</dev>\n",
    " * 팀원 : 이용준(한국증권금융)\n",
    " * 분야 : 투자\n",
    " * 종류 : 분석계획서\n",
    " * 제출 : 파이썬을 확용한 빅데이터 분석\n",
    "\n",
    "\n",
    "---------------------------------------------------------------------\n",
    "## 목적\n",
    "  \n",
    "투자자는 수익 극대화를 위해 마진 트레이딩을 할 수 있으며, 이를 위해 신용거래 및 대차거래 등을 활용한다. 마진거래는 담보율을 유지해야 하는 특징 때문에 일반적으로,\n",
    "\n",
    "현금 증거금 100%거래에 비해 보다 위험한 거래로 간주된다. 투자자의 강한 기대감의 결과인 마진거래와 종합주가지수의 상관관계를 신용공여잔고 및 대차거래잔고를 통해,\n",
    "\n",
    "분석함으로써 이들 요소가 종합주가지수에 어떠한 영향을 미치는지 분석해 본다.\n",
    "\n",
    "---------------------------------------------------------------------\n",
    "## 목표\n",
    "\n",
    "신용공여잔고 및 대차거래잔고를 독립변수로하고 종합주가지수(e.g. KOSPI, KOSDAQ)를 종속변수로하는 여러 회귀분석모형을 설계하여 상관관계분석 및 데이터 시각화를 \n",
    "\n",
    "수행하고, 나아가 해당 머신러닝을 적용하여 신용공여잔고 등 시장지표를 통한 종합주가지수의 방향을 예측해 본다.\n",
    "  \n",
    "---------------------------------------------------------------------\n",
    "## 분석 접근법\n",
    "\n",
    "1. 선형회귀모형 설계 및 연관분석\n",
    "  * 신용융자잔고\n",
    "  * 대차거래잔고\n",
    "  * 예탁증권담보융자\n",
    "2. 머신러닝 모델 성능 평가 및 최적화\n",
    "3. 예측모델 구현\n",
    "---------------------------------------------------------------------\n",
    "## 데이터\n",
    "\n",
    "1. 신용공여잔고\n",
    "  * 일별 신용거래융자잔고\n",
    "2. 예탁증권담보융자\n",
    "  * 일별 예탁증권담보융자잔고\n",
    "3. 대차거래잔고\n",
    "  * 일별 대차거래잔고\n",
    "4. 종합주가지수\n",
    "  * 일별 KOSPI\n",
    "\n",
    "---------------------------------------------------------------------\n",
    "## 가치\n",
    "\n",
    "자본시장법에서는 투자자 및 금융기관의 수익을 극대화 하기 위해 마진거래에 해당하는 신용공여제도에 관한 규정이 명시되어 있으며 기관의 공매도, 증권결제, 헤지수단 등 \n",
    "\n",
    "다양한 운용전략을 위한 대차거래 관련 규정도 존재한다. 이를 기반으로 투자중개업자 등 금융기관은 개인의 차입대주와 기관의 대차거래를 통한 차입공매도 서비스를 \n",
    "제공하고\n",
    "\n",
    "있다. 그러나 근래에 무차입 공매도 논란 등, 공매도와 관련하여 부정적인 여론이 존재하는 가운데, 마진거래가 실제로 종합주가지수에 얼마나 영향을 미치는지에 대한 연구는\n",
    "\n",
    "제대로 이루어지지 않고 있으며, 개인의 신용대주는 대차거래보다 오랜 역사를 가지지만 여러 이유로 인하여 활성화되지 못하고 있다. 마진거래와 종합주가지수와의 관계분석은\n",
    "\n",
    "공매도에 관한 새로운 시각을 제공할 기회가 될 것이다.\n",
    "\n",
    "---------------------------------------------------------------------\n",
    "## 난이도\n",
    "\n",
    "방대한 양의 데이터 집합을 분석하므로 난이도는 '상'에 해당한다.\n",
    "\n",
    "---------------------------------------------------------------------\n",
    "## 연할분담\n",
    "\n",
    "- 이용준 : 데이터 집합 생성 \n",
    "- 이용준 : 기계학습모델 설계 \n",
    "- 이용준 : 모델별 성능 평가 및 최적화\n",
    "- 이용준 : 결과분석\n",
    "\n",
    "---------------------------------------------------------------------\n",
    "## 프로젝트 계획\n",
    "\n",
    "- \\`18.10.22 ~ \\`18.10.25 : KOSPI 분석\n",
    "- \\`18.10.26 : KOSPI 기준 발표\n",
    "- 연수 이후 : 머신러닝 알고리즘 적용 및 평가 계속 수행, KOSDAQ 등 다른 주가지수 적용\n",
    "\n",
    "---------------------------------------------------------------------\n",
    "## 보유 데이터 자산 확인\n",
    "\n",
    "- [금융투자협회 전자공시서비스](http://dis.kofia.or.kr/)\n",
    " * 신용공여잔고\n",
    " * 대차거래잔고\n",
    " * 예탁증권담보융자잔고\n",
    " * 투자자예탁금\n",
    "- [한국거래소 시장정보](http://marketdata.krx.co.kr/)\n",
    " * KOSPI\n",
    "\n",
    "---------------------------------------------------------------------\n",
    "## 보충자료\n",
    "\n",
    "- 없음\n",
    "\n",
    "---------------------------------------------------------------------"
   ]
  },
  {
   "cell_type": "markdown",
   "metadata": {},
   "source": [
    "# Data analysis"
   ]
  },
  {
   "cell_type": "code",
   "execution_count": 74,
   "metadata": {},
   "outputs": [
    {
     "data": {
      "text/html": [
       "<div>\n",
       "<style scoped>\n",
       "    .dataframe tbody tr th:only-of-type {\n",
       "        vertical-align: middle;\n",
       "    }\n",
       "\n",
       "    .dataframe tbody tr th {\n",
       "        vertical-align: top;\n",
       "    }\n",
       "\n",
       "    .dataframe thead th {\n",
       "        text-align: right;\n",
       "    }\n",
       "</style>\n",
       "<table border=\"1\" class=\"dataframe\">\n",
       "  <thead>\n",
       "    <tr style=\"text-align: right;\">\n",
       "      <th></th>\n",
       "      <th>Time</th>\n",
       "      <th>kospi_price</th>\n",
       "      <th>lending</th>\n",
       "      <th>credit_long</th>\n",
       "      <th>credit_short</th>\n",
       "      <th>secured_loan</th>\n",
       "      <th>lending_gr</th>\n",
       "      <th>credit_long_gr</th>\n",
       "      <th>credit_short_gr</th>\n",
       "      <th>secured_loan_gr</th>\n",
       "      <th>kospi_price_gr</th>\n",
       "    </tr>\n",
       "  </thead>\n",
       "  <tbody>\n",
       "    <tr>\n",
       "      <th>1</th>\n",
       "      <td>2008-10-22</td>\n",
       "      <td>1134.59</td>\n",
       "      <td>16243701417120</td>\n",
       "      <td>1558719000000</td>\n",
       "      <td>6823000000</td>\n",
       "      <td>4722774000000</td>\n",
       "      <td>-0.0726</td>\n",
       "      <td>-0.0349</td>\n",
       "      <td>-0.0127</td>\n",
       "      <td>-0.0173</td>\n",
       "      <td>-0.0514</td>\n",
       "    </tr>\n",
       "    <tr>\n",
       "      <th>2</th>\n",
       "      <td>2008-10-23</td>\n",
       "      <td>1049.71</td>\n",
       "      <td>14878682630110</td>\n",
       "      <td>1509430000000</td>\n",
       "      <td>6063000000</td>\n",
       "      <td>4658239000000</td>\n",
       "      <td>-0.0840</td>\n",
       "      <td>-0.0316</td>\n",
       "      <td>-0.1114</td>\n",
       "      <td>-0.0137</td>\n",
       "      <td>-0.0748</td>\n",
       "    </tr>\n",
       "    <tr>\n",
       "      <th>3</th>\n",
       "      <td>2008-10-24</td>\n",
       "      <td>938.75</td>\n",
       "      <td>10620139577410</td>\n",
       "      <td>1456783000000</td>\n",
       "      <td>5727000000</td>\n",
       "      <td>4568727000000</td>\n",
       "      <td>-0.2862</td>\n",
       "      <td>-0.0349</td>\n",
       "      <td>-0.0554</td>\n",
       "      <td>-0.0192</td>\n",
       "      <td>-0.1057</td>\n",
       "    </tr>\n",
       "    <tr>\n",
       "      <th>4</th>\n",
       "      <td>2008-10-27</td>\n",
       "      <td>946.45</td>\n",
       "      <td>13590332412460</td>\n",
       "      <td>1369152000000</td>\n",
       "      <td>5605000000</td>\n",
       "      <td>4338890000000</td>\n",
       "      <td>0.2797</td>\n",
       "      <td>-0.0602</td>\n",
       "      <td>-0.0213</td>\n",
       "      <td>-0.0503</td>\n",
       "      <td>0.0082</td>\n",
       "    </tr>\n",
       "    <tr>\n",
       "      <th>5</th>\n",
       "      <td>2008-10-28</td>\n",
       "      <td>999.16</td>\n",
       "      <td>14677496508535</td>\n",
       "      <td>1167837000000</td>\n",
       "      <td>5410000000</td>\n",
       "      <td>4101443000000</td>\n",
       "      <td>0.0800</td>\n",
       "      <td>-0.1470</td>\n",
       "      <td>-0.0348</td>\n",
       "      <td>-0.0547</td>\n",
       "      <td>0.0557</td>\n",
       "    </tr>\n",
       "  </tbody>\n",
       "</table>\n",
       "</div>"
      ],
      "text/plain": [
       "         Time  kospi_price         lending    credit_long  credit_short  \\\n",
       "1  2008-10-22      1134.59  16243701417120  1558719000000    6823000000   \n",
       "2  2008-10-23      1049.71  14878682630110  1509430000000    6063000000   \n",
       "3  2008-10-24       938.75  10620139577410  1456783000000    5727000000   \n",
       "4  2008-10-27       946.45  13590332412460  1369152000000    5605000000   \n",
       "5  2008-10-28       999.16  14677496508535  1167837000000    5410000000   \n",
       "\n",
       "    secured_loan  lending_gr  credit_long_gr  credit_short_gr  \\\n",
       "1  4722774000000     -0.0726         -0.0349          -0.0127   \n",
       "2  4658239000000     -0.0840         -0.0316          -0.1114   \n",
       "3  4568727000000     -0.2862         -0.0349          -0.0554   \n",
       "4  4338890000000      0.2797         -0.0602          -0.0213   \n",
       "5  4101443000000      0.0800         -0.1470          -0.0348   \n",
       "\n",
       "   secured_loan_gr  kospi_price_gr  \n",
       "1          -0.0173         -0.0514  \n",
       "2          -0.0137         -0.0748  \n",
       "3          -0.0192         -0.1057  \n",
       "4          -0.0503          0.0082  \n",
       "5          -0.0547          0.0557  "
      ]
     },
     "execution_count": 74,
     "metadata": {},
     "output_type": "execute_result"
    }
   ],
   "source": [
    "\n",
    "from sklearn import model_selection\n",
    "from sklearn import metrics\n",
    "from sklearn import preprocessing\n",
    "import numpy as np\n",
    "import pandas as pd\n",
    "import matplotlib.pyplot as plt\n",
    "\n",
    "plt.ion()\n",
    "\n",
    "## 데이터 수집\n",
    "\n",
    "dataset = pd.read_csv(\"project_data2.csv\")\n",
    "\n",
    "## 데이터 탐색, 전처리\n",
    "\n",
    "dataset = dataset[1:]\n",
    "\n",
    "dataset.head()"
   ]
  },
  {
   "cell_type": "code",
   "execution_count": 75,
   "metadata": {},
   "outputs": [
    {
     "data": {
      "text/plain": [
       "(2460, 11)"
      ]
     },
     "execution_count": 75,
     "metadata": {},
     "output_type": "execute_result"
    }
   ],
   "source": [
    "dataset.shape"
   ]
  },
  {
   "cell_type": "code",
   "execution_count": 76,
   "metadata": {},
   "outputs": [
    {
     "data": {
      "text/plain": [
       "Time               0\n",
       "kospi_price        0\n",
       "lending            0\n",
       "credit_long        0\n",
       "credit_short       0\n",
       "secured_loan       0\n",
       "lending_gr         0\n",
       "credit_long_gr     0\n",
       "credit_short_gr    0\n",
       "secured_loan_gr    0\n",
       "kospi_price_gr     0\n",
       "dtype: int64"
      ]
     },
     "execution_count": 76,
     "metadata": {},
     "output_type": "execute_result"
    }
   ],
   "source": [
    "dataset.isnull().sum() # check missing values"
   ]
  },
  {
   "cell_type": "code",
   "execution_count": 77,
   "metadata": {},
   "outputs": [
    {
     "data": {
      "text/plain": [
       "0"
      ]
     },
     "execution_count": 77,
     "metadata": {},
     "output_type": "execute_result"
    }
   ],
   "source": [
    "dataset.isnull().sum().sum() # check missing values"
   ]
  },
  {
   "cell_type": "code",
   "execution_count": 78,
   "metadata": {},
   "outputs": [
    {
     "data": {
      "text/html": [
       "<div>\n",
       "<style scoped>\n",
       "    .dataframe tbody tr th:only-of-type {\n",
       "        vertical-align: middle;\n",
       "    }\n",
       "\n",
       "    .dataframe tbody tr th {\n",
       "        vertical-align: top;\n",
       "    }\n",
       "\n",
       "    .dataframe thead th {\n",
       "        text-align: right;\n",
       "    }\n",
       "</style>\n",
       "<table border=\"1\" class=\"dataframe\">\n",
       "  <thead>\n",
       "    <tr style=\"text-align: right;\">\n",
       "      <th></th>\n",
       "      <th>kospi_price</th>\n",
       "      <th>lending</th>\n",
       "      <th>credit_long</th>\n",
       "      <th>credit_short</th>\n",
       "      <th>secured_loan</th>\n",
       "      <th>lending_gr</th>\n",
       "      <th>credit_long_gr</th>\n",
       "      <th>credit_short_gr</th>\n",
       "      <th>secured_loan_gr</th>\n",
       "      <th>kospi_price_gr</th>\n",
       "    </tr>\n",
       "  </thead>\n",
       "  <tbody>\n",
       "    <tr>\n",
       "      <th>count</th>\n",
       "      <td>2460.000000</td>\n",
       "      <td>2.460000e+03</td>\n",
       "      <td>2.460000e+03</td>\n",
       "      <td>2.460000e+03</td>\n",
       "      <td>2.460000e+03</td>\n",
       "      <td>2460.000000</td>\n",
       "      <td>2460.000000</td>\n",
       "      <td>2460.000000</td>\n",
       "      <td>2460.000000</td>\n",
       "      <td>2460.000000</td>\n",
       "    </tr>\n",
       "    <tr>\n",
       "      <th>mean</th>\n",
       "      <td>1944.916508</td>\n",
       "      <td>3.697358e+13</td>\n",
       "      <td>3.291974e+12</td>\n",
       "      <td>1.750068e+10</td>\n",
       "      <td>9.145270e+12</td>\n",
       "      <td>0.000701</td>\n",
       "      <td>0.000598</td>\n",
       "      <td>0.000422</td>\n",
       "      <td>0.000651</td>\n",
       "      <td>0.000340</td>\n",
       "    </tr>\n",
       "    <tr>\n",
       "      <th>std</th>\n",
       "      <td>295.542202</td>\n",
       "      <td>1.400737e+13</td>\n",
       "      <td>1.025541e+12</td>\n",
       "      <td>1.042755e+10</td>\n",
       "      <td>4.161060e+12</td>\n",
       "      <td>0.021203</td>\n",
       "      <td>0.011587</td>\n",
       "      <td>0.080339</td>\n",
       "      <td>0.013588</td>\n",
       "      <td>0.011546</td>\n",
       "    </tr>\n",
       "    <tr>\n",
       "      <th>min</th>\n",
       "      <td>938.750000</td>\n",
       "      <td>1.039388e+13</td>\n",
       "      <td>8.751140e+11</td>\n",
       "      <td>0.000000e+00</td>\n",
       "      <td>3.147510e+12</td>\n",
       "      <td>-0.286200</td>\n",
       "      <td>-0.167500</td>\n",
       "      <td>-0.815400</td>\n",
       "      <td>-0.227200</td>\n",
       "      <td>-0.105700</td>\n",
       "    </tr>\n",
       "    <tr>\n",
       "      <th>25%</th>\n",
       "      <td>1857.165000</td>\n",
       "      <td>2.435732e+13</td>\n",
       "      <td>2.595430e+12</td>\n",
       "      <td>8.610016e+09</td>\n",
       "      <td>6.619430e+12</td>\n",
       "      <td>-0.007925</td>\n",
       "      <td>-0.004100</td>\n",
       "      <td>-0.031300</td>\n",
       "      <td>-0.002100</td>\n",
       "      <td>-0.004400</td>\n",
       "    </tr>\n",
       "    <tr>\n",
       "      <th>50%</th>\n",
       "      <td>1976.095000</td>\n",
       "      <td>3.748011e+13</td>\n",
       "      <td>3.149055e+12</td>\n",
       "      <td>1.805175e+10</td>\n",
       "      <td>7.548652e+12</td>\n",
       "      <td>0.000000</td>\n",
       "      <td>0.001000</td>\n",
       "      <td>0.000000</td>\n",
       "      <td>0.000700</td>\n",
       "      <td>0.000400</td>\n",
       "    </tr>\n",
       "    <tr>\n",
       "      <th>75%</th>\n",
       "      <td>2055.925000</td>\n",
       "      <td>4.689631e+13</td>\n",
       "      <td>3.661667e+12</td>\n",
       "      <td>2.560397e+10</td>\n",
       "      <td>1.165285e+13</td>\n",
       "      <td>0.009000</td>\n",
       "      <td>0.005800</td>\n",
       "      <td>0.033125</td>\n",
       "      <td>0.003400</td>\n",
       "      <td>0.005800</td>\n",
       "    </tr>\n",
       "    <tr>\n",
       "      <th>max</th>\n",
       "      <td>2598.190000</td>\n",
       "      <td>6.767636e+13</td>\n",
       "      <td>6.294547e+12</td>\n",
       "      <td>5.119759e+10</td>\n",
       "      <td>1.906232e+13</td>\n",
       "      <td>0.279700</td>\n",
       "      <td>0.089900</td>\n",
       "      <td>1.510900</td>\n",
       "      <td>0.227000</td>\n",
       "      <td>0.119500</td>\n",
       "    </tr>\n",
       "  </tbody>\n",
       "</table>\n",
       "</div>"
      ],
      "text/plain": [
       "       kospi_price       lending   credit_long  credit_short  secured_loan  \\\n",
       "count  2460.000000  2.460000e+03  2.460000e+03  2.460000e+03  2.460000e+03   \n",
       "mean   1944.916508  3.697358e+13  3.291974e+12  1.750068e+10  9.145270e+12   \n",
       "std     295.542202  1.400737e+13  1.025541e+12  1.042755e+10  4.161060e+12   \n",
       "min     938.750000  1.039388e+13  8.751140e+11  0.000000e+00  3.147510e+12   \n",
       "25%    1857.165000  2.435732e+13  2.595430e+12  8.610016e+09  6.619430e+12   \n",
       "50%    1976.095000  3.748011e+13  3.149055e+12  1.805175e+10  7.548652e+12   \n",
       "75%    2055.925000  4.689631e+13  3.661667e+12  2.560397e+10  1.165285e+13   \n",
       "max    2598.190000  6.767636e+13  6.294547e+12  5.119759e+10  1.906232e+13   \n",
       "\n",
       "        lending_gr  credit_long_gr  credit_short_gr  secured_loan_gr  \\\n",
       "count  2460.000000     2460.000000      2460.000000      2460.000000   \n",
       "mean      0.000701        0.000598         0.000422         0.000651   \n",
       "std       0.021203        0.011587         0.080339         0.013588   \n",
       "min      -0.286200       -0.167500        -0.815400        -0.227200   \n",
       "25%      -0.007925       -0.004100        -0.031300        -0.002100   \n",
       "50%       0.000000        0.001000         0.000000         0.000700   \n",
       "75%       0.009000        0.005800         0.033125         0.003400   \n",
       "max       0.279700        0.089900         1.510900         0.227000   \n",
       "\n",
       "       kospi_price_gr  \n",
       "count     2460.000000  \n",
       "mean         0.000340  \n",
       "std          0.011546  \n",
       "min         -0.105700  \n",
       "25%         -0.004400  \n",
       "50%          0.000400  \n",
       "75%          0.005800  \n",
       "max          0.119500  "
      ]
     },
     "execution_count": 78,
     "metadata": {},
     "output_type": "execute_result"
    }
   ],
   "source": [
    "dataset.describe()"
   ]
  },
  {
   "cell_type": "code",
   "execution_count": 79,
   "metadata": {},
   "outputs": [
    {
     "data": {
      "text/html": [
       "<div>\n",
       "<style scoped>\n",
       "    .dataframe tbody tr th:only-of-type {\n",
       "        vertical-align: middle;\n",
       "    }\n",
       "\n",
       "    .dataframe tbody tr th {\n",
       "        vertical-align: top;\n",
       "    }\n",
       "\n",
       "    .dataframe thead th {\n",
       "        text-align: right;\n",
       "    }\n",
       "</style>\n",
       "<table border=\"1\" class=\"dataframe\">\n",
       "  <thead>\n",
       "    <tr style=\"text-align: right;\">\n",
       "      <th></th>\n",
       "      <th>Time</th>\n",
       "      <th>kospi_price</th>\n",
       "    </tr>\n",
       "  </thead>\n",
       "  <tbody>\n",
       "    <tr>\n",
       "      <th>1</th>\n",
       "      <td>2008-10-22</td>\n",
       "      <td>1134.59</td>\n",
       "    </tr>\n",
       "    <tr>\n",
       "      <th>2</th>\n",
       "      <td>2008-10-23</td>\n",
       "      <td>1049.71</td>\n",
       "    </tr>\n",
       "    <tr>\n",
       "      <th>3</th>\n",
       "      <td>2008-10-24</td>\n",
       "      <td>938.75</td>\n",
       "    </tr>\n",
       "    <tr>\n",
       "      <th>4</th>\n",
       "      <td>2008-10-27</td>\n",
       "      <td>946.45</td>\n",
       "    </tr>\n",
       "    <tr>\n",
       "      <th>5</th>\n",
       "      <td>2008-10-28</td>\n",
       "      <td>999.16</td>\n",
       "    </tr>\n",
       "  </tbody>\n",
       "</table>\n",
       "</div>"
      ],
      "text/plain": [
       "         Time  kospi_price\n",
       "1  2008-10-22      1134.59\n",
       "2  2008-10-23      1049.71\n",
       "3  2008-10-24       938.75\n",
       "4  2008-10-27       946.45\n",
       "5  2008-10-28       999.16"
      ]
     },
     "execution_count": 79,
     "metadata": {},
     "output_type": "execute_result"
    }
   ],
   "source": [
    "#plt.plot( s_oil_dataset['date'], s_oil_dataset['s_oil_price'] )\n",
    "kospi_price_dataset = dataset[['Time','kospi_price']]\n",
    "\n",
    "kospi_price_dataset.head()"
   ]
  },
  {
   "cell_type": "code",
   "execution_count": 80,
   "metadata": {},
   "outputs": [
    {
     "data": {
      "image/png": "[encoded data removed]",
      "text/plain": [
       "<Figure size 432x288 with 1 Axes>"
      ]
     },
     "metadata": {},
     "output_type": "display_data"
    }
   ],
   "source": [
    "line_kospi_price = kospi_price_dataset.plot( x='Time', y='kospi_price', color='red', linewidth=1, rot=40 )\n",
    "#plt.xlabel('Time')\n",
    "#plt.ylabel('KOSPI')\n",
    "\n",
    "line_kospi_price.set_xlabel('Time')\n",
    "line_kospi_price.set_ylabel('KOSPI')\n",
    "\n",
    "#fig_kospi_price.text(0.15, 0.85,'Last: ' + str(kospi_price_dataset['kospi_price'][1])\\\n",
    "#         + ' (as of: ' \\\n",
    "#         + kospi_price_dataset['Time'][1]\\\n",
    "#         + ')');\n",
    "\n",
    "plt.show()"
   ]
  },
  {
   "cell_type": "code",
   "execution_count": 81,
   "metadata": {},
   "outputs": [
    {
     "data": {
      "text/plain": [
       "[<matplotlib.lines.Line2D at 0x1a24a5b6d8>]"
      ]
     },
     "execution_count": 81,
     "metadata": {},
     "output_type": "execute_result"
    },
    {
     "data": {
      "image/png": "[encoded data removed]",
      "text/plain": [
       "<Figure size 432x288 with 1 Axes>"
      ]
     },
     "metadata": {},
     "output_type": "display_data"
    }
   ],
   "source": [
    "plt.figure()\n",
    "plt.plot( dataset['lending'], dataset[ 'kospi_price' ], 'o' )"
   ]
  },
  {
   "cell_type": "code",
   "execution_count": 82,
   "metadata": {},
   "outputs": [
    {
     "data": {
      "text/plain": [
       "[<matplotlib.lines.Line2D at 0x1a24b7dba8>]"
      ]
     },
     "execution_count": 82,
     "metadata": {},
     "output_type": "execute_result"
    },
    {
     "data": {
      "image/png": "[encoded data removed]",
      "text/plain": [
       "<Figure size 432x288 with 1 Axes>"
      ]
     },
     "metadata": {},
     "output_type": "display_data"
    }
   ],
   "source": [
    "plt.figure()\n",
    "plt.plot( dataset['credit_short'], dataset[ 'kospi_price' ], 'o' )"
   ]
  },
  {
   "cell_type": "code",
   "execution_count": 83,
   "metadata": {},
   "outputs": [
    {
     "data": {
      "text/plain": [
       "[<matplotlib.lines.Line2D at 0x1a24bd6b38>]"
      ]
     },
     "execution_count": 83,
     "metadata": {},
     "output_type": "execute_result"
    },
    {
     "data": {
      "image/png": "[encoded data removed]",
      "text/plain": [
       "<Figure size 432x288 with 1 Axes>"
      ]
     },
     "metadata": {},
     "output_type": "display_data"
    }
   ],
   "source": [
    "plt.figure()\n",
    "plt.plot( dataset['credit_long'], dataset[ 'kospi_price' ], 'o' )"
   ]
  },
  {
   "cell_type": "code",
   "execution_count": 84,
   "metadata": {},
   "outputs": [
    {
     "data": {
      "text/plain": [
       "[<matplotlib.lines.Line2D at 0x1a24cf9b00>]"
      ]
     },
     "execution_count": 84,
     "metadata": {},
     "output_type": "execute_result"
    },
    {
     "data": {
      "image/png": "[encoded data removed]",
      "text/plain": [
       "<Figure size 432x288 with 1 Axes>"
      ]
     },
     "metadata": {},
     "output_type": "display_data"
    }
   ],
   "source": [
    "plt.figure()\n",
    "plt.plot( dataset['secured_loan'], dataset[ 'kospi_price' ], 'o' )"
   ]
  },
  {
   "cell_type": "code",
   "execution_count": 85,
   "metadata": {},
   "outputs": [
    {
     "data": {
      "text/plain": [
       "Text(0,0.5,'credit_short')"
      ]
     },
     "execution_count": 85,
     "metadata": {},
     "output_type": "execute_result"
    },
    {
     "data": {
      "image/png": "[encoded data removed]",
      "text/plain": [
       "<Figure size 432x288 with 1 Axes>"
      ]
     },
     "metadata": {},
     "output_type": "display_data"
    }
   ],
   "source": [
    "plt.figure()\n",
    "plt.scatter( dataset['lending'], dataset[ 'credit_short' ] )\n",
    "\n",
    "plt.xlabel( 'lending' )\n",
    "plt.ylabel( 'credit_short' )"
   ]
  },
  {
   "cell_type": "code",
   "execution_count": 86,
   "metadata": {},
   "outputs": [
    {
     "data": {
      "text/plain": [
       "array([[ 1.        ,  0.83350899,  0.66869393, -0.02048656,  0.82381594],\n",
       "       [ 0.83350899,  1.        ,  0.42719324, -0.29591255,  0.93685625],\n",
       "       [ 0.66869393,  0.42719324,  1.        ,  0.03601673,  0.60606995],\n",
       "       [-0.02048656, -0.29591255,  0.03601673,  1.        , -0.37294307],\n",
       "       [ 0.82381594,  0.93685625,  0.60606995, -0.37294307,  1.        ]])"
      ]
     },
     "execution_count": 86,
     "metadata": {},
     "output_type": "execute_result"
    }
   ],
   "source": [
    "# 상관 분석, 산점도\n",
    "np.corrcoef([dataset['kospi_price'], dataset[ 'lending' ], dataset[\"credit_long\"], dataset[\"credit_short\"], dataset['secured_loan']])"
   ]
  },
  {
   "cell_type": "code",
   "execution_count": 87,
   "metadata": {},
   "outputs": [
    {
     "data": {
      "text/plain": [
       "<Figure size 960x640 with 0 Axes>"
      ]
     },
     "metadata": {},
     "output_type": "display_data"
    },
    {
     "data": {
      "image/png": "[encoded data removed]",
      "text/plain": [
       "<Figure size 432x288 with 25 Axes>"
      ]
     },
     "metadata": {},
     "output_type": "display_data"
    }
   ],
   "source": [
    "plt.figure( figsize=(12, 8), dpi=80 )\n",
    "\n",
    "pd.plotting.scatter_matrix(dataset[[\"kospi_price\", \"lending\", \"credit_long\", \"credit_short\", 'secured_loan']])\n",
    "\n",
    "plt.show()"
   ]
  },
  {
   "cell_type": "code",
   "execution_count": 88,
   "metadata": {},
   "outputs": [
    {
     "data": {
      "text/plain": [
       "<Figure size 960x640 with 0 Axes>"
      ]
     },
     "metadata": {},
     "output_type": "display_data"
    },
    {
     "data": {
      "image/png": "[encoded data removed]",
      "text/plain": [
       "<Figure size 432x288 with 25 Axes>"
      ]
     },
     "metadata": {},
     "output_type": "display_data"
    }
   ],
   "source": [
    "plt.figure( figsize=(12, 8), dpi=80 )\n",
    "\n",
    "pd.plotting.scatter_matrix(dataset[[\"kospi_price_gr\", \"lending_gr\", \"credit_long_gr\", \"credit_short_gr\", 'secured_loan_gr']])\n",
    "\n",
    "plt.show()"
   ]
  },
  {
   "cell_type": "markdown",
   "metadata": {},
   "source": [
    "## Simple linear regression (based credit long)"
   ]
  },
  {
   "cell_type": "code",
   "execution_count": 89,
   "metadata": {},
   "outputs": [
    {
     "data": {
      "text/plain": [
       "((1722, 1), (738, 1), (1722,), (738,))"
      ]
     },
     "execution_count": 89,
     "metadata": {},
     "output_type": "execute_result"
    }
   ],
   "source": [
    "# 데이터를 학습 데이터와 테스트 데이터로 분리\n",
    "X = dataset[[\"credit_long\"]]\n",
    "y = dataset[\"kospi_price\"]\n",
    "\n",
    "\n",
    "X_train, X_test, y_train, y_test = model_selection.train_test_split(X, y, train_size = 0.7, test_size = 0.3, random_state=20181025)\n",
    "X_train.shape, X_test.shape, y_train.shape, y_test.shape"
   ]
  },
  {
   "cell_type": "code",
   "execution_count": 90,
   "metadata": {},
   "outputs": [
    {
     "data": {
      "text/plain": [
       "LinearRegression(copy_X=True, fit_intercept=True, n_jobs=None,\n",
       "         normalize=False)"
      ]
     },
     "execution_count": 90,
     "metadata": {},
     "output_type": "execute_result"
    }
   ],
   "source": [
    "## 훈련: 선형 회귀 모델\n",
    "\n",
    "from sklearn import linear_model\n",
    "model = linear_model.LinearRegression()\n",
    "model.fit(X_train, y_train)\n",
    "\n",
    "#model.intercept_"
   ]
  },
  {
   "cell_type": "code",
   "execution_count": 91,
   "metadata": {},
   "outputs": [
    {
     "data": {
      "text/plain": [
       "array([1.95495341e-10])"
      ]
     },
     "execution_count": 91,
     "metadata": {},
     "output_type": "execute_result"
    }
   ],
   "source": [
    "model.coef_"
   ]
  },
  {
   "cell_type": "code",
   "execution_count": 92,
   "metadata": {},
   "outputs": [
    {
     "data": {
      "text/plain": [
       "1301.6882932870374"
      ]
     },
     "execution_count": 92,
     "metadata": {},
     "output_type": "execute_result"
    }
   ],
   "source": [
    "model.intercept_"
   ]
  },
  {
   "cell_type": "code",
   "execution_count": 93,
   "metadata": {},
   "outputs": [],
   "source": [
    "x = np.array( [ min( dataset[ 'credit_long' ] ), max( dataset[ 'credit_long' ] ) ] ).reshape( -1, 1 )"
   ]
  },
  {
   "cell_type": "code",
   "execution_count": 94,
   "metadata": {},
   "outputs": [
    {
     "data": {
      "text/plain": [
       "array([1472.76900331, 2532.24296815])"
      ]
     },
     "execution_count": 94,
     "metadata": {},
     "output_type": "execute_result"
    }
   ],
   "source": [
    "model.predict( x )"
   ]
  },
  {
   "cell_type": "code",
   "execution_count": 95,
   "metadata": {},
   "outputs": [
    {
     "data": {
      "text/plain": [
       "[<matplotlib.lines.Line2D at 0x1a260a7940>]"
      ]
     },
     "execution_count": 95,
     "metadata": {},
     "output_type": "execute_result"
    },
    {
     "data": {
      "image/png": "[encoded data removed]",
      "text/plain": [
       "<Figure size 432x288 with 1 Axes>"
      ]
     },
     "metadata": {},
     "output_type": "display_data"
    }
   ],
   "source": [
    "plt.plot( x, model.predict( x ) )"
   ]
  },
  {
   "cell_type": "code",
   "execution_count": 96,
   "metadata": {},
   "outputs": [
    {
     "name": "stdout",
     "output_type": "stream",
     "text": [
      "선형회귀 R^2 결정계수 : [ 44.52 ]\n"
     ]
    },
    {
     "data": {
      "text/plain": [
       "array([2670.15568174, 2865.65102295, 3061.14636416])"
      ]
     },
     "execution_count": 96,
     "metadata": {},
     "output_type": "execute_result"
    },
    {
     "data": {
      "image/png": "[encoded data removed]",
      "text/plain": [
       "<Figure size 432x288 with 1 Axes>"
      ]
     },
     "metadata": {},
     "output_type": "display_data"
    }
   ],
   "source": [
    "## 선형회귀모델 평가\n",
    "\n",
    "# 학습 오차\n",
    "print( '선형회귀 R^2 결정계수 : [ %.2lf ]' % ( model.score(X_train, y_train) * 100 ) )\n",
    "pred = model.predict(X_train)\n",
    "plt.plot( X_train['credit_long'], pred, c='red' )\n",
    "\n",
    "np.sqrt(metrics.mean_squared_error(y_train, pred))\n",
    "np.sqrt( sum((pred - y_train)**2 )/(y_train.shape[0]-2) ) # residual standard error\n",
    "\n",
    "\n",
    "pred = model.predict(pd.DataFrame({'credit_long' : [7000000000000, 8000000000000, 9000000000000]}))\n",
    "pred"
   ]
  },
  {
   "cell_type": "code",
   "execution_count": 97,
   "metadata": {
    "scrolled": true
   },
   "outputs": [
    {
     "name": "stdout",
     "output_type": "stream",
     "text": [
      "선형회귀 R^2 결정계수 : [ 45.14 ]\n",
      "선형회귀 테스트오차 : [  212.5072884366159  ]\n"
     ]
    }
   ],
   "source": [
    "# 테스트 오차\n",
    "print( '선형회귀 R^2 결정계수 : [ %.2lf ]' % ( model.score(X_test, y_test) * 100 ) )\n",
    "pred = model.predict(X_test)\n",
    "print( '선형회귀 테스트오차 : [ ', np.sqrt(metrics.mean_squared_error(y_test, pred)), ' ]' )"
   ]
  },
  {
   "cell_type": "markdown",
   "metadata": {},
   "source": [
    "## Simple linear regression (based lending)"
   ]
  },
  {
   "cell_type": "code",
   "execution_count": 98,
   "metadata": {},
   "outputs": [
    {
     "data": {
      "text/plain": [
       "((1722, 1), (738, 1), (1722,), (738,))"
      ]
     },
     "execution_count": 98,
     "metadata": {},
     "output_type": "execute_result"
    }
   ],
   "source": [
    "# 데이터를 학습 데이터와 테스트 데이터로 분리\n",
    "X2 = dataset[[\"lending\"]]\n",
    "y2 = dataset[\"kospi_price\"]\n",
    "\n",
    "\n",
    "X_train2, X_test2, y_train2, y_test2 = model_selection.train_test_split(X2, y2, train_size = 0.7, test_size = 0.3, random_state=20181025)\n",
    "X_train2.shape, X_test2.shape, y_train2.shape, y_test2.shape"
   ]
  },
  {
   "cell_type": "code",
   "execution_count": 99,
   "metadata": {},
   "outputs": [
    {
     "data": {
      "text/plain": [
       "LinearRegression(copy_X=True, fit_intercept=True, n_jobs=None,\n",
       "         normalize=False)"
      ]
     },
     "execution_count": 99,
     "metadata": {},
     "output_type": "execute_result"
    }
   ],
   "source": [
    "## 훈련: 선형 회귀 모델\n",
    "\n",
    "model2 = linear_model.LinearRegression()\n",
    "model2.fit(X_train2, y_train2)\n"
   ]
  },
  {
   "cell_type": "code",
   "execution_count": 100,
   "metadata": {},
   "outputs": [
    {
     "data": {
      "text/plain": [
       "array([1.7786926e-11])"
      ]
     },
     "execution_count": 100,
     "metadata": {},
     "output_type": "execute_result"
    }
   ],
   "source": [
    "model2.coef_"
   ]
  },
  {
   "cell_type": "code",
   "execution_count": 101,
   "metadata": {},
   "outputs": [
    {
     "data": {
      "text/plain": [
       "1284.1429301381452"
      ]
     },
     "execution_count": 101,
     "metadata": {},
     "output_type": "execute_result"
    }
   ],
   "source": [
    "model2.intercept_"
   ]
  },
  {
   "cell_type": "code",
   "execution_count": 102,
   "metadata": {},
   "outputs": [],
   "source": [
    "x2 = np.array( [ min( dataset[ 'lending' ] ), max( dataset[ 'lending' ] ) ] ).reshape( -1, 1 )"
   ]
  },
  {
   "cell_type": "code",
   "execution_count": 103,
   "metadata": {},
   "outputs": [
    {
     "data": {
      "text/plain": [
       "array([1469.01815354, 2487.89730036])"
      ]
     },
     "execution_count": 103,
     "metadata": {},
     "output_type": "execute_result"
    }
   ],
   "source": [
    "model2.predict( x2 )"
   ]
  },
  {
   "cell_type": "code",
   "execution_count": 104,
   "metadata": {},
   "outputs": [
    {
     "data": {
      "text/plain": [
       "Text(0,0.5,'kospi_price')"
      ]
     },
     "execution_count": 104,
     "metadata": {},
     "output_type": "execute_result"
    },
    {
     "data": {
      "image/png": "[encoded data removed]",
      "text/plain": [
       "<Figure size 432x288 with 1 Axes>"
      ]
     },
     "metadata": {},
     "output_type": "display_data"
    }
   ],
   "source": [
    "plt.plot( x2, model2.predict( x2 ) )\n",
    "plt.xlabel('lending')\n",
    "plt.ylabel('kospi_price')"
   ]
  },
  {
   "cell_type": "code",
   "execution_count": 105,
   "metadata": {},
   "outputs": [
    {
     "name": "stdout",
     "output_type": "stream",
     "text": [
      "선형회귀 학습 R^2 결정계수 : [ 70.10 ]\n"
     ]
    },
    {
     "data": {
      "text/plain": [
       "Text(0,0.5,'kospi_price')"
      ]
     },
     "execution_count": 105,
     "metadata": {},
     "output_type": "execute_result"
    },
    {
     "data": {
      "image/png": "[encoded data removed]",
      "text/plain": [
       "<Figure size 432x288 with 1 Axes>"
      ]
     },
     "metadata": {},
     "output_type": "display_data"
    }
   ],
   "source": [
    "## 선형회귀모델 평가\n",
    "\n",
    "# 학습 오차\n",
    "print( '선형회귀 학습 R^2 결정계수 : [ %.2lf ]' % ( model2.score(X_train2, y_train2) * 100 ) )\n",
    "pred2 = model2.predict(X_train2)\n",
    "plt.plot( X_train2['lending'], pred2, c='red' )\n",
    "\n",
    "np.sqrt(metrics.mean_squared_error(y_train2, pred2))\n",
    "np.sqrt( sum((pred2 - y_train2)**2 )/(y_train2.shape[0]-2) ) # residual standard error\n",
    "\n",
    "\n",
    "pred2 = model2.predict(pd.DataFrame({'lending' : [0.001, 0.001, 0.01]}))\n",
    "pred2\n",
    "\n",
    "plt.xlabel('lending')\n",
    "plt.ylabel('kospi_price')"
   ]
  },
  {
   "cell_type": "code",
   "execution_count": 106,
   "metadata": {},
   "outputs": [
    {
     "name": "stdout",
     "output_type": "stream",
     "text": [
      "선형회귀 테스트 R^2 결정계수 : [ 0.68 ]\n",
      "선형회귀 테스트오차 : [  162.84243267755784  ]\n"
     ]
    }
   ],
   "source": [
    "# 테스트 오차\n",
    "print( '선형회귀 테스트 R^2 결정계수 : [ %.2lf ]' % ( model2.score(X_test2, y_test2) ) )\n",
    "pred2 = model2.predict(X_test2)\n",
    "print( '선형회귀 테스트오차 : [ ', np.sqrt(metrics.mean_squared_error(y_test2, pred2)), ' ]' )"
   ]
  },
  {
   "cell_type": "markdown",
   "metadata": {},
   "source": [
    "## Multi-variables linear regression( based on balance )"
   ]
  },
  {
   "cell_type": "code",
   "execution_count": 107,
   "metadata": {},
   "outputs": [
    {
     "data": {
      "text/plain": [
       "((1722, 2), (738, 2), (1722,), (738,))"
      ]
     },
     "execution_count": 107,
     "metadata": {},
     "output_type": "execute_result"
    }
   ],
   "source": [
    "# 다중선형회귀 \n",
    "\n",
    "# 데이터를 학습 데이터와 테스트 데이터로 분리\n",
    "X3 = dataset[[\"lending\",\"credit_long\"]]\n",
    "y3 = dataset[\"kospi_price\"]\n",
    "\n",
    "\n",
    "X_train3, X_test3, y_train3, y_test3 = model_selection.train_test_split(X3, y3, train_size = 0.7, test_size = 0.3, random_state=20181025)\n",
    "X_train3.shape, X_test3.shape, y_train3.shape, y_test3.shape"
   ]
  },
  {
   "cell_type": "code",
   "execution_count": 108,
   "metadata": {},
   "outputs": [
    {
     "data": {
      "text/plain": [
       "LinearRegression(copy_X=True, fit_intercept=True, n_jobs=None,\n",
       "         normalize=False)"
      ]
     },
     "execution_count": 108,
     "metadata": {},
     "output_type": "execute_result"
    }
   ],
   "source": [
    "model3 = linear_model.LinearRegression()\n",
    "model3.fit(X_train3, y_train3)"
   ]
  },
  {
   "cell_type": "code",
   "execution_count": 109,
   "metadata": {},
   "outputs": [
    {
     "data": {
      "text/plain": [
       "array([1.43484909e-11, 1.10777686e-10])"
      ]
     },
     "execution_count": 109,
     "metadata": {},
     "output_type": "execute_result"
    }
   ],
   "source": [
    "model3.coef_"
   ]
  },
  {
   "cell_type": "code",
   "execution_count": 110,
   "metadata": {},
   "outputs": [
    {
     "data": {
      "text/plain": [
       "1048.3544274052476"
      ]
     },
     "execution_count": 110,
     "metadata": {},
     "output_type": "execute_result"
    }
   ],
   "source": [
    "model3.intercept_"
   ]
  },
  {
   "cell_type": "code",
   "execution_count": 111,
   "metadata": {},
   "outputs": [
    {
     "name": "stdout",
     "output_type": "stream",
     "text": [
      "선형회귀 학습 R^2 결정계수 : [ 0.82 ]\n",
      "선형회귀 학습 오차 : [  127.65150843047113  ]\n"
     ]
    }
   ],
   "source": [
    "## 선형회귀모델 평가\n",
    "\n",
    "# 학습 오차\n",
    "print( '선형회귀 학습 R^2 결정계수 : [ %.2lf ]' % ( model3.score(X_train3, y_train3) ) )\n",
    "pred3 = model3.predict(X_train3)\n",
    "#print( pred3[:5] )\n",
    "print( '선형회귀 학습 오차 : [ ', np.sqrt(metrics.mean_squared_error(y_train3, pred3)), ' ]' )"
   ]
  },
  {
   "cell_type": "code",
   "execution_count": 112,
   "metadata": {},
   "outputs": [
    {
     "data": {
      "text/plain": [
       "127.72570286186213"
      ]
     },
     "execution_count": 112,
     "metadata": {},
     "output_type": "execute_result"
    }
   ],
   "source": [
    "import sklearn as sk\n",
    "\n",
    "np.sqrt(sum((pred3 - y_train3)**2)/(y_train3.shape[0]-2))  # residual standard error"
   ]
  },
  {
   "cell_type": "code",
   "execution_count": 113,
   "metadata": {},
   "outputs": [
    {
     "name": "stdout",
     "output_type": "stream",
     "text": [
      "[2530.88451946 2828.19258614 3082.45518024]\n"
     ]
    }
   ],
   "source": [
    "# predictions on some data\n",
    "pred3 = model3.predict(pd.DataFrame({'lending': [57000000000000, 70000000000000, 80000000000000], 'credit_long' : [6000000000000,7000000000000,8000000000000]}))    # 56606188024912\t5926684997006\n",
    "print(pred3[:3])"
   ]
  },
  {
   "cell_type": "code",
   "execution_count": 114,
   "metadata": {},
   "outputs": [
    {
     "name": "stdout",
     "output_type": "stream",
     "text": [
      "선형회귀 테스트 R^2 결정계수 : [ 0.80 ]\n",
      "선형회귀 테스트 오차 : [  126.75723445843416  ]\n"
     ]
    }
   ],
   "source": [
    "# predict for test data\n",
    "print( '선형회귀 테스트 R^2 결정계수 : [ %.2lf ]' % model3.score(X_test3, y_test3) )\n",
    "pred3 = model3.predict(X_test3)\n",
    "#print( pred3[:5] )\n",
    "print( '선형회귀 테스트 오차 : [ ', np.sqrt(metrics.mean_squared_error(y_test3, pred3)), ' ]' )"
   ]
  },
  {
   "cell_type": "markdown",
   "metadata": {},
   "source": [
    "## Multi-variables Linear regression based on Gradient Descent by tensorflow "
   ]
  },
  {
   "cell_type": "markdown",
   "metadata": {},
   "source": [
    "$$H(X) = w_1x_1 + w_2x_2 + b$$\n",
    "\n",
    "\n",
    "$$cost(W, b)=\\frac{1}{m}\\sum_{i=1}^{m}(H(x_1^{i},x_2^{i})-y^{i})^{2}$$"
   ]
  },
  {
   "cell_type": "code",
   "execution_count": 179,
   "metadata": {},
   "outputs": [
    {
     "name": "stderr",
     "output_type": "stream",
     "text": [
      "/Users/andrewyj/anaconda3/lib/python3.6/site-packages/ipykernel_launcher.py:5: SettingWithCopyWarning: \n",
      "A value is trying to be set on a copy of a slice from a DataFrame.\n",
      "Try using .loc[row_indexer,col_indexer] = value instead\n",
      "\n",
      "See the caveats in the documentation: http://pandas.pydata.org/pandas-docs/stable/indexing.html#indexing-view-versus-copy\n",
      "  \"\"\"\n",
      "/Users/andrewyj/anaconda3/lib/python3.6/site-packages/ipykernel_launcher.py:6: SettingWithCopyWarning: \n",
      "A value is trying to be set on a copy of a slice from a DataFrame.\n",
      "Try using .loc[row_indexer,col_indexer] = value instead\n",
      "\n",
      "See the caveats in the documentation: http://pandas.pydata.org/pandas-docs/stable/indexing.html#indexing-view-versus-copy\n",
      "  \n"
     ]
    },
    {
     "data": {
      "text/plain": [
       "(2460, 2)"
      ]
     },
     "execution_count": 179,
     "metadata": {},
     "output_type": "execute_result"
    }
   ],
   "source": [
    "import tensorflow as tf\n",
    "\n",
    "x_data = dataset[ [ \"credit_long\",\"lending\" ]]\n",
    "\n",
    "x_data['credit_long'] = x_data['credit_long'] / 100000000\n",
    "x_data['lending'] = x_data['lending'] / 100000000\n",
    "\n",
    "#x_data = [ pd.to_numeric( dataset['credit_long'] ).astype(float), pd.to_numeric( dataset['lending'] ).astype(float) ]\n",
    "\n",
    "#x_data['credit_long'] = pd.to_numeric(x_data['credit_long']).astype(float)\n",
    "#x_data['lending'] = pd.to_numeric(x_data['lending']).astype(float)\n",
    "\n",
    "#print( x_data[0][:5] )\n",
    "#print( x_data[1][:5] )\n",
    "\n",
    "#print(x_data)\n",
    "\n",
    "x_data.shape"
   ]
  },
  {
   "cell_type": "code",
   "execution_count": 180,
   "metadata": {},
   "outputs": [
    {
     "name": "stdout",
     "output_type": "stream",
     "text": [
      "1    1134.59\n",
      "2    1049.71\n",
      "3     938.75\n",
      "4     946.45\n",
      "5     999.16\n",
      "Name: kospi_price, dtype: float64\n"
     ]
    },
    {
     "data": {
      "text/plain": [
       "(2460,)"
      ]
     },
     "execution_count": 180,
     "metadata": {},
     "output_type": "execute_result"
    }
   ],
   "source": [
    "y_data = dataset[\"kospi_price\"]\n",
    "print( y_data[:5] )\n",
    "\n",
    "y_data.shape"
   ]
  },
  {
   "cell_type": "code",
   "execution_count": 181,
   "metadata": {},
   "outputs": [
    {
     "ename": "TypeError",
     "evalue": "Expected binary or unicode string, got <tf.Tensor 'sub_11:0' shape=(2460, 2460) dtype=float64>",
     "output_type": "error",
     "traceback": [
      "\u001b[0;31m---------------------------------------------------------------------------\u001b[0m",
      "\u001b[0;31mTypeError\u001b[0m                                 Traceback (most recent call last)",
      "\u001b[0;32m<ipython-input-181-61b24ab84082>\u001b[0m in \u001b[0;36m<module>\u001b[0;34m()\u001b[0m\n\u001b[1;32m     10\u001b[0m \u001b[0;34m\u001b[0m\u001b[0m\n\u001b[1;32m     11\u001b[0m \u001b[0;34m\u001b[0m\u001b[0m\n\u001b[0;32m---> 12\u001b[0;31m \u001b[0mcost\u001b[0m \u001b[0;34m=\u001b[0m \u001b[0mtf\u001b[0m\u001b[0;34m.\u001b[0m\u001b[0mreduce_mean\u001b[0m\u001b[0;34m(\u001b[0m\u001b[0mtf\u001b[0m\u001b[0;34m.\u001b[0m\u001b[0msquare\u001b[0m\u001b[0;34m(\u001b[0m\u001b[0mhypothesis\u001b[0m \u001b[0;34m-\u001b[0m \u001b[0my_data\u001b[0m\u001b[0;34m)\u001b[0m\u001b[0;34m)\u001b[0m\u001b[0;34m\u001b[0m\u001b[0m\n\u001b[0m\u001b[1;32m     13\u001b[0m \u001b[0;34m\u001b[0m\u001b[0m\n\u001b[1;32m     14\u001b[0m \u001b[0mrate\u001b[0m \u001b[0;34m=\u001b[0m \u001b[0mtf\u001b[0m\u001b[0;34m.\u001b[0m\u001b[0mVariable\u001b[0m\u001b[0;34m(\u001b[0m\u001b[0;36m0.1\u001b[0m\u001b[0;34m)\u001b[0m\u001b[0;34m\u001b[0m\u001b[0m\n",
      "\u001b[0;32m~/anaconda3/lib/python3.6/site-packages/tensorflow/python/ops/math_ops.py\u001b[0m in \u001b[0;36msquare\u001b[0;34m(x, name)\u001b[0m\n\u001b[1;32m    340\u001b[0m           indices=x.indices, values=x_square, dense_shape=x.dense_shape)\n\u001b[1;32m    341\u001b[0m     \u001b[0;32melse\u001b[0m\u001b[0;34m:\u001b[0m\u001b[0;34m\u001b[0m\u001b[0m\n\u001b[0;32m--> 342\u001b[0;31m       \u001b[0;32mreturn\u001b[0m \u001b[0mgen_math_ops\u001b[0m\u001b[0;34m.\u001b[0m\u001b[0msquare\u001b[0m\u001b[0;34m(\u001b[0m\u001b[0mx\u001b[0m\u001b[0;34m,\u001b[0m \u001b[0mname\u001b[0m\u001b[0;34m=\u001b[0m\u001b[0mname\u001b[0m\u001b[0;34m)\u001b[0m\u001b[0;34m\u001b[0m\u001b[0m\n\u001b[0m\u001b[1;32m    343\u001b[0m \u001b[0;34m\u001b[0m\u001b[0m\n\u001b[1;32m    344\u001b[0m \u001b[0;34m\u001b[0m\u001b[0m\n",
      "\u001b[0;32m~/anaconda3/lib/python3.6/site-packages/tensorflow/python/ops/gen_math_ops.py\u001b[0m in \u001b[0;36msquare\u001b[0;34m(x, name)\u001b[0m\n\u001b[1;32m   8195\u001b[0m   \u001b[0;32mif\u001b[0m \u001b[0m_ctx\u001b[0m \u001b[0;32mis\u001b[0m \u001b[0;32mNone\u001b[0m \u001b[0;32mor\u001b[0m \u001b[0;32mnot\u001b[0m \u001b[0m_ctx\u001b[0m\u001b[0;34m.\u001b[0m\u001b[0m_eager_context\u001b[0m\u001b[0;34m.\u001b[0m\u001b[0mis_eager\u001b[0m\u001b[0;34m:\u001b[0m\u001b[0;34m\u001b[0m\u001b[0m\n\u001b[1;32m   8196\u001b[0m     _, _, _op = _op_def_lib._apply_op_helper(\n\u001b[0;32m-> 8197\u001b[0;31m         \"Square\", x=x, name=name)\n\u001b[0m\u001b[1;32m   8198\u001b[0m     \u001b[0m_result\u001b[0m \u001b[0;34m=\u001b[0m \u001b[0m_op\u001b[0m\u001b[0;34m.\u001b[0m\u001b[0moutputs\u001b[0m\u001b[0;34m[\u001b[0m\u001b[0;34m:\u001b[0m\u001b[0;34m]\u001b[0m\u001b[0;34m\u001b[0m\u001b[0m\n\u001b[1;32m   8199\u001b[0m     \u001b[0m_inputs_flat\u001b[0m \u001b[0;34m=\u001b[0m \u001b[0m_op\u001b[0m\u001b[0;34m.\u001b[0m\u001b[0minputs\u001b[0m\u001b[0;34m\u001b[0m\u001b[0m\n",
      "\u001b[0;32m~/anaconda3/lib/python3.6/site-packages/tensorflow/python/framework/op_def_library.py\u001b[0m in \u001b[0;36m_apply_op_helper\u001b[0;34m(self, op_type_name, name, **keywords)\u001b[0m\n\u001b[1;32m    511\u001b[0m           \u001b[0;32mexcept\u001b[0m \u001b[0mTypeError\u001b[0m \u001b[0;32mas\u001b[0m \u001b[0merr\u001b[0m\u001b[0;34m:\u001b[0m\u001b[0;34m\u001b[0m\u001b[0m\n\u001b[1;32m    512\u001b[0m             \u001b[0;32mif\u001b[0m \u001b[0mdtype\u001b[0m \u001b[0;32mis\u001b[0m \u001b[0;32mNone\u001b[0m\u001b[0;34m:\u001b[0m\u001b[0;34m\u001b[0m\u001b[0m\n\u001b[0;32m--> 513\u001b[0;31m               \u001b[0;32mraise\u001b[0m \u001b[0merr\u001b[0m\u001b[0;34m\u001b[0m\u001b[0m\n\u001b[0m\u001b[1;32m    514\u001b[0m             \u001b[0;32melse\u001b[0m\u001b[0;34m:\u001b[0m\u001b[0;34m\u001b[0m\u001b[0m\n\u001b[1;32m    515\u001b[0m               raise TypeError(\n",
      "\u001b[0;32m~/anaconda3/lib/python3.6/site-packages/tensorflow/python/framework/op_def_library.py\u001b[0m in \u001b[0;36m_apply_op_helper\u001b[0;34m(self, op_type_name, name, **keywords)\u001b[0m\n\u001b[1;32m    508\u001b[0m                 \u001b[0mdtype\u001b[0m\u001b[0;34m=\u001b[0m\u001b[0mdtype\u001b[0m\u001b[0;34m,\u001b[0m\u001b[0;34m\u001b[0m\u001b[0m\n\u001b[1;32m    509\u001b[0m                 \u001b[0mas_ref\u001b[0m\u001b[0;34m=\u001b[0m\u001b[0minput_arg\u001b[0m\u001b[0;34m.\u001b[0m\u001b[0mis_ref\u001b[0m\u001b[0;34m,\u001b[0m\u001b[0;34m\u001b[0m\u001b[0m\n\u001b[0;32m--> 510\u001b[0;31m                 preferred_dtype=default_dtype)\n\u001b[0m\u001b[1;32m    511\u001b[0m           \u001b[0;32mexcept\u001b[0m \u001b[0mTypeError\u001b[0m \u001b[0;32mas\u001b[0m \u001b[0merr\u001b[0m\u001b[0;34m:\u001b[0m\u001b[0;34m\u001b[0m\u001b[0m\n\u001b[1;32m    512\u001b[0m             \u001b[0;32mif\u001b[0m \u001b[0mdtype\u001b[0m \u001b[0;32mis\u001b[0m \u001b[0;32mNone\u001b[0m\u001b[0;34m:\u001b[0m\u001b[0;34m\u001b[0m\u001b[0m\n",
      "\u001b[0;32m~/anaconda3/lib/python3.6/site-packages/tensorflow/python/framework/ops.py\u001b[0m in \u001b[0;36minternal_convert_to_tensor\u001b[0;34m(value, dtype, name, as_ref, preferred_dtype, ctx)\u001b[0m\n\u001b[1;32m   1142\u001b[0m \u001b[0;34m\u001b[0m\u001b[0m\n\u001b[1;32m   1143\u001b[0m     \u001b[0;32mif\u001b[0m \u001b[0mret\u001b[0m \u001b[0;32mis\u001b[0m \u001b[0;32mNone\u001b[0m\u001b[0;34m:\u001b[0m\u001b[0;34m\u001b[0m\u001b[0m\n\u001b[0;32m-> 1144\u001b[0;31m       \u001b[0mret\u001b[0m \u001b[0;34m=\u001b[0m \u001b[0mconversion_func\u001b[0m\u001b[0;34m(\u001b[0m\u001b[0mvalue\u001b[0m\u001b[0;34m,\u001b[0m \u001b[0mdtype\u001b[0m\u001b[0;34m=\u001b[0m\u001b[0mdtype\u001b[0m\u001b[0;34m,\u001b[0m \u001b[0mname\u001b[0m\u001b[0;34m=\u001b[0m\u001b[0mname\u001b[0m\u001b[0;34m,\u001b[0m \u001b[0mas_ref\u001b[0m\u001b[0;34m=\u001b[0m\u001b[0mas_ref\u001b[0m\u001b[0;34m)\u001b[0m\u001b[0;34m\u001b[0m\u001b[0m\n\u001b[0m\u001b[1;32m   1145\u001b[0m \u001b[0;34m\u001b[0m\u001b[0m\n\u001b[1;32m   1146\u001b[0m     \u001b[0;32mif\u001b[0m \u001b[0mret\u001b[0m \u001b[0;32mis\u001b[0m \u001b[0mNotImplemented\u001b[0m\u001b[0;34m:\u001b[0m\u001b[0;34m\u001b[0m\u001b[0m\n",
      "\u001b[0;32m~/anaconda3/lib/python3.6/site-packages/tensorflow/python/framework/constant_op.py\u001b[0m in \u001b[0;36m_constant_tensor_conversion_function\u001b[0;34m(v, dtype, name, as_ref)\u001b[0m\n\u001b[1;32m    226\u001b[0m                                          as_ref=False):\n\u001b[1;32m    227\u001b[0m   \u001b[0m_\u001b[0m \u001b[0;34m=\u001b[0m \u001b[0mas_ref\u001b[0m\u001b[0;34m\u001b[0m\u001b[0m\n\u001b[0;32m--> 228\u001b[0;31m   \u001b[0;32mreturn\u001b[0m \u001b[0mconstant\u001b[0m\u001b[0;34m(\u001b[0m\u001b[0mv\u001b[0m\u001b[0;34m,\u001b[0m \u001b[0mdtype\u001b[0m\u001b[0;34m=\u001b[0m\u001b[0mdtype\u001b[0m\u001b[0;34m,\u001b[0m \u001b[0mname\u001b[0m\u001b[0;34m=\u001b[0m\u001b[0mname\u001b[0m\u001b[0;34m)\u001b[0m\u001b[0;34m\u001b[0m\u001b[0m\n\u001b[0m\u001b[1;32m    229\u001b[0m \u001b[0;34m\u001b[0m\u001b[0m\n\u001b[1;32m    230\u001b[0m \u001b[0;34m\u001b[0m\u001b[0m\n",
      "\u001b[0;32m~/anaconda3/lib/python3.6/site-packages/tensorflow/python/framework/constant_op.py\u001b[0m in \u001b[0;36mconstant\u001b[0;34m(value, dtype, shape, name, verify_shape)\u001b[0m\n\u001b[1;32m    205\u001b[0m   tensor_value.tensor.CopyFrom(\n\u001b[1;32m    206\u001b[0m       tensor_util.make_tensor_proto(\n\u001b[0;32m--> 207\u001b[0;31m           value, dtype=dtype, shape=shape, verify_shape=verify_shape))\n\u001b[0m\u001b[1;32m    208\u001b[0m   \u001b[0mdtype_value\u001b[0m \u001b[0;34m=\u001b[0m \u001b[0mattr_value_pb2\u001b[0m\u001b[0;34m.\u001b[0m\u001b[0mAttrValue\u001b[0m\u001b[0;34m(\u001b[0m\u001b[0mtype\u001b[0m\u001b[0;34m=\u001b[0m\u001b[0mtensor_value\u001b[0m\u001b[0;34m.\u001b[0m\u001b[0mtensor\u001b[0m\u001b[0;34m.\u001b[0m\u001b[0mdtype\u001b[0m\u001b[0;34m)\u001b[0m\u001b[0;34m\u001b[0m\u001b[0m\n\u001b[1;32m    209\u001b[0m   const_tensor = g.create_op(\n",
      "\u001b[0;32m~/anaconda3/lib/python3.6/site-packages/tensorflow/python/framework/tensor_util.py\u001b[0m in \u001b[0;36mmake_tensor_proto\u001b[0;34m(values, dtype, shape, verify_shape)\u001b[0m\n\u001b[1;32m    540\u001b[0m     raise TypeError(\n\u001b[1;32m    541\u001b[0m         \"Element type not supported in TensorProto: %s\" % numpy_dtype.name)\n\u001b[0;32m--> 542\u001b[0;31m   \u001b[0mappend_fn\u001b[0m\u001b[0;34m(\u001b[0m\u001b[0mtensor_proto\u001b[0m\u001b[0;34m,\u001b[0m \u001b[0mproto_values\u001b[0m\u001b[0;34m)\u001b[0m\u001b[0;34m\u001b[0m\u001b[0m\n\u001b[0m\u001b[1;32m    543\u001b[0m \u001b[0;34m\u001b[0m\u001b[0m\n\u001b[1;32m    544\u001b[0m   \u001b[0;32mreturn\u001b[0m \u001b[0mtensor_proto\u001b[0m\u001b[0;34m\u001b[0m\u001b[0m\n",
      "\u001b[0;32mtensorflow/python/framework/fast_tensor_util.pyx\u001b[0m in \u001b[0;36mtensorflow.python.framework.fast_tensor_util.AppendObjectArrayToTensorProto\u001b[0;34m()\u001b[0m\n",
      "\u001b[0;32m~/anaconda3/lib/python3.6/site-packages/tensorflow/python/util/compat.py\u001b[0m in \u001b[0;36mas_bytes\u001b[0;34m(bytes_or_text, encoding)\u001b[0m\n\u001b[1;32m     59\u001b[0m   \u001b[0;32melse\u001b[0m\u001b[0;34m:\u001b[0m\u001b[0;34m\u001b[0m\u001b[0m\n\u001b[1;32m     60\u001b[0m     raise TypeError('Expected binary or unicode string, got %r' %\n\u001b[0;32m---> 61\u001b[0;31m                     (bytes_or_text,))\n\u001b[0m\u001b[1;32m     62\u001b[0m \u001b[0;34m\u001b[0m\u001b[0m\n\u001b[1;32m     63\u001b[0m \u001b[0;34m\u001b[0m\u001b[0m\n",
      "\u001b[0;31mTypeError\u001b[0m: Expected binary or unicode string, got <tf.Tensor 'sub_11:0' shape=(2460, 2460) dtype=float64>"
     ]
    }
   ],
   "source": [
    "\n",
    "W = tf.Variable(tf.random_uniform([2, 1], -1.0, 1.0, dtype=tf.float64))  \n",
    "\n",
    "b = tf.Variable(tf.random_uniform([1], -1000.0, 1000.0, dtype=tf.float64))\n",
    "\n",
    "# W와 곱해야 하기 때문에 x_data를 실수로 변경\n",
    "hypothesis = tf.matmul(x_data, W) + b                  \n",
    "\n",
    "\n",
    "cost = tf.reduce_mean(tf.square(hypothesis - y_data))\n",
    "\n",
    "rate = tf.Variable(0.1)\n",
    "optimizer = tf.train.GradientDescentOptimizer(rate)\n",
    "train = optimizer.minimize(cost)\n",
    "\n",
    "init = tf.initialize_all_variables()\n",
    "\n",
    "sess = tf.Session()\n",
    "sess.run(init)\n",
    "\n",
    "# 테스트 출력\n",
    "print(sess.run(W))\n",
    "print(sess.run(tf.matmul(W, x_data)))\n",
    "\n",
    "for step in range(2001):\n",
    "    sess.run(train)\n",
    "\n",
    "    if step%20 == 0:\n",
    "        print(step, sess.run(cost), sess.run(W), sess.run(b))\n",
    "\n",
    "sess.close()\n"
   ]
  },
  {
   "cell_type": "code",
   "execution_count": null,
   "metadata": {},
   "outputs": [],
   "source": []
  }
 ],
 "metadata": {
  "kernelspec": {
   "display_name": "Python 3",
   "language": "python",
   "name": "python3"
  },
  "language_info": {
   "codemirror_mode": {
    "name": "ipython",
    "version": 3
   },
   "file_extension": ".py",
   "mimetype": "text/x-python",
   "name": "python",
   "nbconvert_exporter": "python",
   "pygments_lexer": "ipython3",
   "version": "3.6.5"
  }
 },
 "nbformat": 4,
 "nbformat_minor": 2
}
